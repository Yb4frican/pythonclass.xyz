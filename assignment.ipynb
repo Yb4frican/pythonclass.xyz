{
 "cells": [
  {
   "cell_type": "code",
   "execution_count": 1,
   "metadata": {
    "scrolled": true
   },
   "outputs": [
    {
     "name": "stdout",
     "output_type": "stream",
     "text": [
      "my name is james\n"
     ]
    }
   ],
   "source": [
    "#1.\n",
    "word = 'my name is james'\n",
    "print(word)"
   ]
  },
  {
   "cell_type": "code",
   "execution_count": 3,
   "metadata": {},
   "outputs": [
    {
     "name": "stdout",
     "output_type": "stream",
     "text": [
      "i am from a well known village with good culture in kogi state\n"
     ]
    }
   ],
   "source": [
    "#2.\n",
    "st = 'state'\n",
    "print('i am from a well known village with good culture in kogi', st)"
   ]
  },
  {
   "cell_type": "code",
   "execution_count": 9,
   "metadata": {},
   "outputs": [
    {
     "name": "stdout",
     "output_type": "stream",
     "text": [
      "i have 1000 dollars so i can buy 3 football for 450 dollars\n"
     ]
    }
   ],
   "source": [
    "#A\n",
    "totalmoney = 1000\n",
    "quantity = 3\n",
    "price = 450\n",
    "report ='i have {} dollars so i can buy {} football for {} dollars'\n",
    "print(report.format(totalmoney,quantity,price))\n"
   ]
  },
  {
   "cell_type": "code",
   "execution_count": 1,
   "metadata": {},
   "outputs": [
    {
     "name": "stdout",
     "output_type": "stream",
     "text": [
      "458.0\n"
     ]
    }
   ],
   "source": [
    "num = 458\n",
    "num = float(458.0)\n",
    "print(num)"
   ]
  },
  {
   "cell_type": "code",
   "execution_count": 1,
   "metadata": {},
   "outputs": [
    {
     "name": "stdout",
     "output_type": "stream",
     "text": [
      "please enter your name:thomas\n",
      "please enter your name:frank\n",
      "please enter your name:bruce\n"
     ]
    }
   ],
   "source": [
    "name1 = input('please enter your name:')\n",
    "name2 =input('please enter your name:')\n",
    "name3 = input('please enter your name:')"
   ]
  },
  {
   "cell_type": "code",
   "execution_count": 2,
   "metadata": {},
   "outputs": [
    {
     "name": "stdout",
     "output_type": "stream",
     "text": [
      "ROSES ARE RED\n",
      "VIOLETS ARE BLUE\n",
      "I JUST WANT TO SAY I LOVE YOU\n",
      "\n"
     ]
    }
   ],
   "source": [
    "poem = '''roses are red\n",
    "violets are blue\n",
    "i just want to say i love you\n",
    "'''\n",
    "print(poem.upper())"
   ]
  },
  {
   "cell_type": "code",
   "execution_count": 8,
   "metadata": {},
   "outputs": [
    {
     "name": "stdout",
     "output_type": "stream",
     "text": [
      "the amount for first yr is4999.18\n"
     ]
    }
   ],
   "source": [
    "# compound intrest formula = A = p*(1+r/n)n*t or A = p*(1+r/100)*t or A= [p(1+r)n]-1\n",
    "p = 5000\n",
    "r = 0.06\n",
    "t = 3\n",
    "A = (5000*1+0.06*3)-1\n",
    "print(f'the amount for first yr is{A}')"
   ]
  },
  {
   "cell_type": "code",
   "execution_count": 9,
   "metadata": {},
   "outputs": [
    {
     "data": {
      "text/plain": [
       "9999.18"
      ]
     },
     "execution_count": 9,
     "metadata": {},
     "output_type": "execute_result"
    }
   ],
   "source": [
    "#if\n",
    "A = 4999.18\n",
    "#then\n",
    "A + p"
   ]
  },
  {
   "cell_type": "code",
   "execution_count": 10,
   "metadata": {},
   "outputs": [
    {
     "name": "stdout",
     "output_type": "stream",
     "text": [
      "the amount for second year is 9998.36\n"
     ]
    }
   ],
   "source": [
    "#2nd year\n",
    "p = 9999.18\n",
    "r = 0.06\n",
    "t =3\n",
    "A = (9999.18*1+0.06*3)-1\n",
    "print(f'the amount for second year is {A}')"
   ]
  },
  {
   "cell_type": "code",
   "execution_count": 11,
   "metadata": {},
   "outputs": [
    {
     "data": {
      "text/plain": [
       "19997.54"
      ]
     },
     "execution_count": 11,
     "metadata": {},
     "output_type": "execute_result"
    }
   ],
   "source": [
    "#if\n",
    "A = 9998.36\n",
    "#then\n",
    "A + p"
   ]
  },
  {
   "cell_type": "code",
   "execution_count": 12,
   "metadata": {},
   "outputs": [
    {
     "name": "stdout",
     "output_type": "stream",
     "text": [
      "the amount for third year is 19996.72\n"
     ]
    }
   ],
   "source": [
    "#3rd year\n",
    "p = 19997.54\n",
    "r = 0.06\n",
    "t = 3\n",
    "A = (19997.54*1+0.06*3)-1\n",
    "print(f'the amount for third year is {A}')"
   ]
  },
  {
   "cell_type": "code",
   "execution_count": 13,
   "metadata": {},
   "outputs": [
    {
     "data": {
      "text/plain": [
       "39994.26"
      ]
     },
     "execution_count": 13,
     "metadata": {},
     "output_type": "execute_result"
    }
   ],
   "source": [
    "#if \n",
    "A = 19996.72\n",
    "#then\n",
    "A + p"
   ]
  },
  {
   "cell_type": "code",
   "execution_count": 1,
   "metadata": {},
   "outputs": [],
   "source": [
    "#N/a"
   ]
  },
  {
   "cell_type": "code",
   "execution_count": 14,
   "metadata": {},
   "outputs": [],
   "source": [
    "# Tuple\n",
    "num = (46,53,45,48,55,45,49,51,51,58,50,55,53,57,50,46,55,55,47,57,55)"
   ]
  },
  {
   "cell_type": "code",
   "execution_count": 15,
   "metadata": {},
   "outputs": [
    {
     "name": "stdout",
     "output_type": "stream",
     "text": [
      "58\n"
     ]
    }
   ],
   "source": [
    "print(num[9])"
   ]
  },
  {
   "cell_type": "code",
   "execution_count": 16,
   "metadata": {},
   "outputs": [
    {
     "name": "stdout",
     "output_type": "stream",
     "text": [
      "5\n"
     ]
    }
   ],
   "source": [
    "print(num.count(55))"
   ]
  },
  {
   "cell_type": "code",
   "execution_count": 22,
   "metadata": {},
   "outputs": [
    {
     "name": "stdout",
     "output_type": "stream",
     "text": [
      "(49, 51, 51, 58, 50, 55, 53)\n"
     ]
    }
   ],
   "source": [
    "print(num[6:13])"
   ]
  },
  {
   "cell_type": "code",
   "execution_count": 27,
   "metadata": {},
   "outputs": [
    {
     "name": "stdout",
     "output_type": "stream",
     "text": [
      "['BPF', 'LOG4', 'NV_MAGICCONST', 'RECIP_BPF', 'Random', 'SG_MAGICCONST', 'SystemRandom', 'TWOPI', '_Sequence', '_Set', '__all__', '__builtins__', '__cached__', '__doc__', '__file__', '__loader__', '__name__', '__package__', '__spec__', '_accumulate', '_acos', '_bisect', '_ceil', '_cos', '_e', '_exp', '_inst', '_log', '_os', '_pi', '_random', '_repeat', '_sha512', '_sin', '_sqrt', '_test', '_test_generator', '_urandom', '_warn', 'betavariate', 'choice', 'choices', 'expovariate', 'gammavariate', 'gauss', 'getrandbits', 'getstate', 'lognormvariate', 'normalvariate', 'paretovariate', 'randint', 'random', 'randrange', 'sample', 'seed', 'setstate', 'shuffle', 'triangular', 'uniform', 'vonmisesvariate', 'weibullvariate']\n"
     ]
    }
   ],
   "source": [
    "# list\n",
    "import random as rn\n",
    "print(dir(rn))"
   ]
  },
  {
   "cell_type": "code",
   "execution_count": 31,
   "metadata": {},
   "outputs": [
    {
     "name": "stdout",
     "output_type": "stream",
     "text": [
      "(46, 53, 45, 48, 55, 45, 49, 51, 51, 58, 50, 55, 53, 57, 50, 46, 55, 55, 47, 57, 55)\n"
     ]
    }
   ],
   "source": [
    "print(num)"
   ]
  },
  {
   "cell_type": "code",
   "execution_count": 42,
   "metadata": {},
   "outputs": [],
   "source": [
    "num = [46,53,45,48,55,45,49,51,51,58,50,55,53,57,50,46,55,55,47,57,55]"
   ]
  },
  {
   "cell_type": "code",
   "execution_count": 43,
   "metadata": {},
   "outputs": [
    {
     "name": "stdout",
     "output_type": "stream",
     "text": [
      "repeat([46, 53, 45, 48, 55, 45, 49, 51, 51, 58, 50, 55, 53, 57, 50, 46, 55, 55, 47, 57, 55])\n"
     ]
    }
   ],
   "source": [
    "print(rn._repeat(num))"
   ]
  },
  {
   "cell_type": "code",
   "execution_count": 51,
   "metadata": {},
   "outputs": [
    {
     "name": "stdout",
     "output_type": "stream",
     "text": [
      "58\n"
     ]
    }
   ],
   "source": [
    "print(num[9])"
   ]
  },
  {
   "cell_type": "code",
   "execution_count": 52,
   "metadata": {},
   "outputs": [
    {
     "name": "stdout",
     "output_type": "stream",
     "text": [
      "2\n"
     ]
    }
   ],
   "source": [
    "print(num.count(51))"
   ]
  },
  {
   "cell_type": "code",
   "execution_count": 63,
   "metadata": {},
   "outputs": [
    {
     "name": "stdout",
     "output_type": "stream",
     "text": [
      "[46, 53, 45, 48, 55, 45, 49, 51, 51, 58, 50, 55, 53, 57, 50, 69, 69, [69], [69], 6, 69, 69, 69, 46, 55, 55, 47, 57, 55]\n"
     ]
    }
   ],
   "source": [
    "num.reverse()\n",
    "print(num)"
   ]
  },
  {
   "cell_type": "code",
   "execution_count": 62,
   "metadata": {},
   "outputs": [
    {
     "name": "stdout",
     "output_type": "stream",
     "text": [
      "[55, 57, 47, 55, 55, 46, 69, 69, 69, 6, [69], [69], 69, 69, 50, 57, 53, 55, 50, 58, 51, 51, 49, 45, 55, 48, 45, 53, 46]\n"
     ]
    }
   ],
   "source": [
    "num.insert(6, 69)\n",
    "print(num)"
   ]
  },
  {
   "cell_type": "code",
   "execution_count": 64,
   "metadata": {},
   "outputs": [
    {
     "name": "stdout",
     "output_type": "stream",
     "text": [
      "[46, 53, 45, 48, 55, 45, 49, 51, 51, 58, 50, 55, 53, 57, 50, 69, 69, [69], [69], 6, 69, 69, 69, 46, 55, 55, 47, 57, 55, 89, 85, 36, 95, 45, 78]\n"
     ]
    }
   ],
   "source": [
    "numbers = [89,85,36,95,45,78]\n",
    "num.extend(numbers)\n",
    "print(num)"
   ]
  },
  {
   "cell_type": "code",
   "execution_count": 68,
   "metadata": {},
   "outputs": [],
   "source": [
    "# dictionary where epl=english premier league, l=location, mn=manager's name, cc=club captain, nw=networth, cf=clubformation.\n",
    "epl = {\n",
    "    'chelsea':['l','mn','cc','nw','cf'],\n",
    "    'arsenal':['l','mn','cc','nw','cf'],\n",
    "    'mancity':['l','mn','cc','nw','cf'],\n",
    "    'manunited':['l','mn','cc','nw','cf'],\n",
    "    'tottenham':['l','mn','cc','nw','cf'],\n",
    "    'leister':['l','mn','cc','nw','cf'],\n",
    "    'wolves':['l','mn','cc','nw','cf'],\n",
    "    'southhampton':['l','mn','cc','nw','cf'],\n",
    "    'bristol':['l','mn','cc','nw','cf'],\n",
    "    'birminghamfc':['l','mn','cc','nw','cf']\n",
    "}"
   ]
  },
  {
   "cell_type": "code",
   "execution_count": null,
   "metadata": {},
   "outputs": [],
   "source": []
  }
 ],
 "metadata": {
  "kernelspec": {
   "display_name": "Python 3",
   "language": "python",
   "name": "python3"
  },
  "language_info": {
   "codemirror_mode": {
    "name": "ipython",
    "version": 3
   },
   "file_extension": ".py",
   "mimetype": "text/x-python",
   "name": "python",
   "nbconvert_exporter": "python",
   "pygments_lexer": "ipython3",
   "version": "3.8.5"
  }
 },
 "nbformat": 4,
 "nbformat_minor": 4
}
