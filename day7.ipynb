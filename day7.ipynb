{
 "cells": [
  {
   "cell_type": "code",
   "execution_count": 1,
   "metadata": {},
   "outputs": [],
   "source": [
    "#function\n",
    "#there are three types of functions:\n",
    "#1.user define\n",
    "#2.inbuilt\n",
    "#3.anonymous "
   ]
  },
  {
   "cell_type": "code",
   "execution_count": 3,
   "metadata": {},
   "outputs": [
    {
     "data": {
      "text/plain": [
       "17"
      ]
     },
     "execution_count": 3,
     "metadata": {},
     "output_type": "execute_result"
    }
   ],
   "source": [
    "#The annoymous function\n",
    "(lambda x,y: x+y)(8,9)\n",
    "#note: the lambda operator is also known as an annonymous operator\n",
    "#and the annonymous function does not perform advanced functions only basic operations "
   ]
  },
  {
   "cell_type": "code",
   "execution_count": 4,
   "metadata": {},
   "outputs": [
    {
     "name": "stdout",
     "output_type": "stream",
     "text": [
      "please enter your password:(Whodeybr66t!\n"
     ]
    },
    {
     "data": {
      "text/plain": [
       "'yes (Whodeybr66t! start with an uppercase'"
      ]
     },
     "execution_count": 4,
     "metadata": {},
     "output_type": "execute_result"
    }
   ],
   "source": [
    "(lambda password:f'yes {password} start with an uppercase' if password [0] == password[0].upper() else f'no{password} does not start with an uppercase')(input('please enter your password:')) \n",
    "#note: the annoymous function does not! use the print operator \n",
    "#note: the annoymous function does not allow code to be performed or written vertically it only operates horisontally"
   ]
  },
  {
   "cell_type": "code",
   "execution_count": 15,
   "metadata": {},
   "outputs": [
    {
     "name": "stdout",
     "output_type": "stream",
     "text": [
      "please enter a number:w66d123\n"
     ]
    },
    {
     "data": {
      "text/plain": [
       "'no w66d123 does not end with a number'"
      ]
     },
     "execution_count": 15,
     "metadata": {},
     "output_type": "execute_result"
    }
   ],
   "source": [
    "#write a lambda function to check if a password ends with numbers between 0-9\n",
    "(lambda password:f'yes  {password} Ends with a digit' if password[-1] ==0 or password[-1] ==1 or password[-1] ==2 or password[-1] ==3 or password[-1] ==4 or password[-1] ==5 or password[-1] ==6 or password[-1] ==7 or password[-1] ==8 or password[-1] ==9 else f'no {password} does not end with a number')(input('please enter a number:'))"
   ]
  },
  {
   "cell_type": "code",
   "execution_count": 16,
   "metadata": {},
   "outputs": [
    {
     "name": "stdout",
     "output_type": "stream",
     "text": [
      "['ROCKY', 'BINGO', 'CUCKY']\n"
     ]
    }
   ],
   "source": [
    "#map function\n",
    "dog =['rocky','bingo','cucky']\n",
    "udog =list(map(lambda x:str.upper(x),dog))\n",
    "print(udog) #u in u dog means update"
   ]
  },
  {
   "cell_type": "code",
   "execution_count": 17,
   "metadata": {},
   "outputs": [
    {
     "name": "stdout",
     "output_type": "stream",
     "text": [
      "['bingo']\n"
     ]
    }
   ],
   "source": [
    "udog = list(filter(lambda x:x.startswith('b'),dog))\n",
    "print(udog)"
   ]
  },
  {
   "cell_type": "code",
   "execution_count": 18,
   "metadata": {},
   "outputs": [],
   "source": [
    "#generate random numbers between 45 and 80 total should be 200\n",
    "#modify this numbers by finding their square root\n",
    "#filter out odd and even numbers"
   ]
  },
  {
   "cell_type": "code",
   "execution_count": 40,
   "metadata": {},
   "outputs": [
    {
     "name": "stdout",
     "output_type": "stream",
     "text": [
      "[8.54400374531753, 6.708203932499369, 8.717797887081348, 8.18535277187245, 7.810249675906654, 7.937253933193772, 8.48528137423857, 8.18535277187245, 8.48528137423857, 8.246211251235321, 7.54983443527075, 8.660254037844387, 8.06225774829855, 6.928203230275509, 7.3484692283495345, 7.937253933193772, 8.94427190999916, 6.855654600401044, 8.774964387392123, 7.416198487095663, 8.54400374531753, 8.602325267042627, 8.94427190999916, 6.782329983125268, 7.810249675906654, 7.54983443527075, 8.774964387392123, 8.426149773176359, 8.660254037844387, 7.745966692414834, 7.681145747868608, 6.855654600401044, 7.211102550927978, 8.660254037844387, 7.810249675906654, 7.3484692283495345, 7.937253933193772, 8.660254037844387, 8.0, 6.855654600401044, 8.06225774829855, 7.874007874011811, 7.3484692283495345, 7.745966692414834, 7.211102550927978, 8.12403840463596, 7.937253933193772, 8.366600265340756, 7.745966692414834, 8.306623862918075, 7.483314773547883, 6.928203230275509, 8.94427190999916, 7.211102550927978, 7.280109889280518, 8.0, 8.660254037844387, 8.48528137423857, 7.416198487095663, 7.416198487095663, 7.211102550927978, 8.94427190999916, 8.06225774829855, 8.774964387392123, 7.211102550927978, 8.602325267042627, 7.745966692414834, 8.246211251235321, 7.0, 8.717797887081348, 7.681145747868608, 8.54400374531753, 6.708203932499369, 7.211102550927978, 7.0, 7.0, 8.0, 8.06225774829855, 7.615773105863909, 8.888194417315589, 7.211102550927978, 7.280109889280518, 8.717797887081348, 7.280109889280518, 8.94427190999916, 7.810249675906654, 7.937253933193772, 8.888194417315589, 7.0710678118654755, 7.810249675906654, 7.416198487095663, 6.708203932499369, 8.306623862918075, 8.12403840463596, 7.280109889280518, 7.810249675906654, 8.0, 7.745966692414834, 6.855654600401044, 7.810249675906654, 8.774964387392123, 7.54983443527075, 8.888194417315589, 8.774964387392123, 7.874007874011811, 7.615773105863909, 8.366600265340756, 8.06225774829855, 7.54983443527075, 7.810249675906654, 7.211102550927978, 8.831760866327848, 7.3484692283495345, 6.782329983125268, 7.280109889280518, 8.306623862918075, 7.681145747868608, 7.3484692283495345, 6.708203932499369, 8.0, 6.782329983125268, 6.782329983125268, 7.937253933193772, 7.280109889280518, 7.810249675906654, 6.782329983125268, 7.211102550927978, 7.54983443527075, 8.246211251235321, 7.14142842854285, 7.54983443527075, 6.855654600401044, 8.48528137423857, 8.94427190999916, 8.366600265340756, 7.615773105863909, 8.306623862918075, 7.14142842854285, 8.660254037844387, 8.602325267042627, 7.211102550927978, 7.416198487095663, 8.48528137423857, 7.280109889280518, 7.14142842854285, 7.0710678118654755, 7.810249675906654, 8.94427190999916, 7.0, 8.18535277187245, 7.280109889280518, 7.416198487095663, 7.416198487095663, 6.782329983125268, 8.888194417315589, 8.660254037844387, 8.0, 8.717797887081348, 7.615773105863909, 8.888194417315589, 7.937253933193772, 8.366600265340756, 8.246211251235321, 8.48528137423857, 8.54400374531753, 7.615773105863909, 8.831760866327848, 8.660254037844387, 7.745966692414834, 8.306623862918075, 8.06225774829855, 8.774964387392123, 7.416198487095663, 7.54983443527075, 8.12403840463596, 8.94427190999916, 7.874007874011811, 6.855654600401044, 8.366600265340756, 8.774964387392123, 7.681145747868608, 8.12403840463596, 8.831760866327848, 7.0710678118654755, 8.774964387392123, 8.774964387392123, 7.211102550927978, 8.06225774829855, 7.483314773547883, 8.54400374531753, 8.0, 8.18535277187245, 8.06225774829855, 8.660254037844387, 7.416198487095663, 7.937253933193772, 8.831760866327848, 7.810249675906654, 6.782329983125268, 6.928203230275509]\n",
      "[73, 45, 67, 61, 63, 67, 57, 75, 65, 63, 47, 77, 55, 73, 61, 57, 77, 71, 75, 59, 47, 75, 61, 63, 75, 47, 65, 63, 69, 53, 75, 55, 55, 65, 77, 49, 59, 73, 45, 49, 49, 65, 79, 53, 53, 61, 63, 79, 61, 55, 45, 69, 53, 61, 47, 61, 77, 57, 79, 77, 65, 57, 61, 53, 69, 59, 45, 63, 53, 61, 57, 51, 57, 47, 69, 51, 75, 55, 53, 51, 61, 49, 67, 53, 55, 55, 79, 75, 79, 63, 73, 75, 69, 65, 77, 55, 57, 47, 77, 59, 77, 77, 65, 73, 67, 65, 75, 55, 63, 61]\n",
      "\n",
      "\n",
      "[76, 72, 72, 68, 48, 54, 80, 74, 80, 46, 60, 52, 54, 64, 62, 54, 60, 52, 66, 70, 60, 56, 48, 80, 52, 64, 72, 52, 80, 52, 74, 60, 68, 76, 52, 64, 58, 52, 76, 80, 50, 66, 64, 60, 62, 58, 70, 52, 78, 54, 46, 54, 64, 46, 46, 46, 52, 68, 72, 80, 70, 58, 74, 52, 72, 50, 80, 46, 64, 76, 58, 70, 68, 72, 58, 78, 60, 66, 80, 62, 70, 66, 78, 50, 52, 56, 64, 78, 46, 48]\n"
     ]
    }
   ],
   "source": [
    "import random\n",
    "import math\n",
    "numbers =[]\n",
    "counter = 1\n",
    "while counter <= 200:\n",
    "    num = random.randint(45,80)\n",
    "    numbers.append(num)\n",
    "    counter +=1\n",
    "    \n",
    "    \n",
    "updatenumber1 = list(map(lambda x:math.sqrt(x),numbers))\n",
    "print(updatenumber1)\n",
    "odd = list(filter(lambda x: x%2 ==1, numbers))\n",
    "even = list(filter(lambda x: x%2 ==0,numbers))\n",
    "print(odd)\n",
    "print('\\n')\n",
    "print(even)"
   ]
  }
 ],
 "metadata": {
  "kernelspec": {
   "display_name": "Python 3",
   "language": "python",
   "name": "python3"
  },
  "language_info": {
   "codemirror_mode": {
    "name": "ipython",
    "version": 3
   },
   "file_extension": ".py",
   "mimetype": "text/x-python",
   "name": "python",
   "nbconvert_exporter": "python",
   "pygments_lexer": "ipython3",
   "version": "3.8.5"
  }
 },
 "nbformat": 4,
 "nbformat_minor": 4
}
