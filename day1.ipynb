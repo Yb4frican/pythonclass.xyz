{
 "cells": [
  {
   "cell_type": "code",
   "execution_count": 22,
   "metadata": {},
   "outputs": [],
   "source": [
    "num1 = 45\n",
    "num2 = 12.9\n",
    "name = 'simeon'\n",
    "y = False"
   ]
  },
  {
   "cell_type": "code",
   "execution_count": 23,
   "metadata": {},
   "outputs": [
    {
     "name": "stdout",
     "output_type": "stream",
     "text": [
      "we're good brethen from the brotherhood\n"
     ]
    }
   ],
   "source": [
    "word = 'we\\'re good brethen from the brotherhood' \n",
    "print(word)"
   ]
  },
  {
   "cell_type": "code",
   "execution_count": 24,
   "metadata": {},
   "outputs": [
    {
     "name": "stdout",
     "output_type": "stream",
     "text": [
      "we're brothers from the other side of the town\n"
     ]
    }
   ],
   "source": [
    "word = \"we're brothers from the other side of the town\"\n",
    "print(word)"
   ]
  },
  {
   "cell_type": "code",
   "execution_count": 25,
   "metadata": {},
   "outputs": [
    {
     "name": "stdout",
     "output_type": "stream",
     "text": [
      "python is fun\n",
      "python is eazy to learn\n"
     ]
    }
   ],
   "source": [
    "word2 = 'python is fun\\npython is eazy to learn'\n",
    "print (word2)"
   ]
  },
  {
   "cell_type": "code",
   "execution_count": 26,
   "metadata": {},
   "outputs": [
    {
     "name": "stdout",
     "output_type": "stream",
     "text": [
      "python is fun\n",
      "python is easy to learn\n",
      "python has an interactive environment\n"
     ]
    }
   ],
   "source": [
    "word2 = 'python is fun\\npython is easy to learn\\npython has an interactive environment'\n",
    "print(word2)"
   ]
  },
  {
   "cell_type": "code",
   "execution_count": 21,
   "metadata": {},
   "outputs": [
    {
     "name": "stdout",
     "output_type": "stream",
     "text": [
      "python is fun\n",
      "python is easy to learn\n",
      "python has an interactive environment\n",
      "\n"
     ]
    }
   ],
   "source": [
    "word3 = '''python is fun\n",
    "python is easy to learn\n",
    "python has an interactive environment\n",
    "'''\n",
    "print(word3)"
   ]
  },
  {
   "cell_type": "code",
   "execution_count": 13,
   "metadata": {},
   "outputs": [
    {
     "name": "stdout",
     "output_type": "stream",
     "text": [
      "Hello world\n"
     ]
    }
   ],
   "source": [
    "print('Hello' +' '+ 'world')# joining of string and string"
   ]
  },
  {
   "cell_type": "code",
   "execution_count": 27,
   "metadata": {},
   "outputs": [
    {
     "name": "stdout",
     "output_type": "stream",
     "text": [
      "welcome to python class simeon\n"
     ]
    }
   ],
   "source": [
    "print('welcome to python class', name)# joining of string and variable holding a string value"
   ]
  },
  {
   "cell_type": "code",
   "execution_count": 28,
   "metadata": {},
   "outputs": [
    {
     "name": "stdout",
     "output_type": "stream",
     "text": [
      "simeon paul\n"
     ]
    }
   ],
   "source": [
    "secondname = 'paul'\n",
    "print(name, secondname)# joining of variable and variable holding a string value"
   ]
  },
  {
   "cell_type": "code",
   "execution_count": 29,
   "metadata": {},
   "outputs": [
    {
     "name": "stdout",
     "output_type": "stream",
     "text": [
      "i bought a notebook for 85 naira, three pen for 150 naira and two pencil for 40 naira\n"
     ]
    }
   ],
   "source": [
    "price1 = 85\n",
    "price2 = 150\n",
    "price3 = 40\n",
    "report = 'i bought a notebook for {} naira, three pen for {} naira and two pencil for {} naira'\n",
    "print(report.format(price1,price2,price3))"
   ]
  },
  {
   "cell_type": "code",
   "execution_count": 31,
   "metadata": {},
   "outputs": [
    {
     "name": "stdout",
     "output_type": "stream",
     "text": [
      "i bought a notebook for 85 naira, three pen for 150 naira and two pencil for 40 naira\n"
     ]
    }
   ],
   "source": [
    "print(f'i bought a notebook for {price1} naira, three pen for {price2} naira and two pencil for {price3} naira')"
   ]
  },
  {
   "cell_type": "code",
   "execution_count": 32,
   "metadata": {},
   "outputs": [
    {
     "name": "stdout",
     "output_type": "stream",
     "text": [
      "SCHOOL\n",
      "school\n",
      "Python Is Fun\n",
      "Python is fun\n",
      "['python', 'is', 'fun']\n",
      "info@gmail.com\n"
     ]
    }
   ],
   "source": [
    "word1 = 'school'\n",
    "word2 = 'SCHOOL'\n",
    "word3 = 'python is fun'\n",
    "word4 = 'info@gmail.com'\n",
    "\n",
    "print(word1.upper())\n",
    "print(word2.lower())\n",
    "print(word3.title())\n",
    "print(word3.capitalize())\n",
    "print(word3.split())\n",
    "print(word4.strip())\n"
   ]
  },
  {
   "cell_type": "code",
   "execution_count": 3,
   "metadata": {},
   "outputs": [
    {
     "name": "stdout",
     "output_type": "stream",
     "text": [
      "chigozirim is the best\n",
      "so as his bro\n"
     ]
    }
   ],
   "source": [
    "name = 'chigozirim is the best\\nso as his bro'\n",
    "print(name)"
   ]
  }
 ],
 "metadata": {
  "kernelspec": {
   "display_name": "Python 3",
   "language": "python",
   "name": "python3"
  },
  "language_info": {
   "codemirror_mode": {
    "name": "ipython",
    "version": 3
   },
   "file_extension": ".py",
   "mimetype": "text/x-python",
   "name": "python",
   "nbconvert_exporter": "python",
   "pygments_lexer": "ipython3",
   "version": "3.8.5"
  }
 },
 "nbformat": 4,
 "nbformat_minor": 4
}
