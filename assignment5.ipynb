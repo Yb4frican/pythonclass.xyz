{
 "cells": [
  {
   "cell_type": "markdown",
   "metadata": {},
   "source": [
    "## assignment"
   ]
  },
  {
   "cell_type": "code",
   "execution_count": 10,
   "metadata": {},
   "outputs": [
    {
     "name": "stdout",
     "output_type": "stream",
     "text": [
      "please enter a number:4\n",
      "the sqrt of 4 is 16\n"
     ]
    }
   ],
   "source": [
    "num = int(input('please enter a number:'))\n",
    "num_sqrt = num ** 2\n",
    "print(f'the sqrt of {num} is {num_sqrt}')"
   ]
  },
  {
   "cell_type": "code",
   "execution_count": 11,
   "metadata": {},
   "outputs": [],
   "source": [
    "new_file = open('NewFile.txt','w+')\n",
    "new_file.write('''\n",
    "    The usefulness of Python\n",
    " Python has be\n",
    "\n",
    "\n",
    "\n",
    "\n",
    "''')\n",
    "new_file.close()"
   ]
  },
  {
   "cell_type": "code",
   "execution_count": 12,
   "metadata": {},
   "outputs": [
    {
     "name": "stdout",
     "output_type": "stream",
     "text": [
      "The usefullness of Python\n"
     ]
    }
   ],
   "source": [
    "file1 = open('NewFile.txt','r')\n",
    "print(file1.read())\n",
    "file1.close()"
   ]
  },
  {
   "cell_type": "code",
   "execution_count": null,
   "metadata": {},
   "outputs": [],
   "source": []
  }
 ],
 "metadata": {
  "kernelspec": {
   "display_name": "Python 3",
   "language": "python",
   "name": "python3"
  },
  "language_info": {
   "codemirror_mode": {
    "name": "ipython",
    "version": 3
   },
   "file_extension": ".py",
   "mimetype": "text/x-python",
   "name": "python",
   "nbconvert_exporter": "python",
   "pygments_lexer": "ipython3",
   "version": "3.8.5"
  }
 },
 "nbformat": 4,
 "nbformat_minor": 4
}
