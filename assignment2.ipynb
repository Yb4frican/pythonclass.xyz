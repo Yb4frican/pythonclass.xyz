{
 "cells": [
  {
   "cell_type": "code",
   "execution_count": 1,
   "metadata": {},
   "outputs": [],
   "source": [
    "#BMI calculator\n",
    "#This is also known as body mass index\n",
    "#formula for bmi = kg/m^2\n",
    "#conditions for bmi:\n",
    "#1.underweight; <18.5\n",
    "#2.healthy weight; 18.5-24.9\n",
    "#3.overweight; 25-29.9\n",
    "#4.obesity; 30-34.9"
   ]
  },
  {
   "cell_type": "code",
   "execution_count": 4,
   "metadata": {},
   "outputs": [
    {
     "name": "stdout",
     "output_type": "stream",
     "text": [
      "\n",
      "    Height:45.5\n",
      "    Weight:24.1\n",
      "    Age:18\n",
      "    Sex:male\n",
      "    Actlvl:16\n",
      "    \n",
      "you are healthyweight\n"
     ]
    }
   ],
   "source": [
    "#1.\n",
    "def person(height,weight,age,sex,actlvl):\n",
    "    print(f'''\n",
    "    Height:{height}\n",
    "    Weight:{weight}\n",
    "    Age:{age}\n",
    "    Sex:{sex}\n",
    "    Actlvl:{actlvl}\n",
    "    ''')\n",
    "    for i in range(19,35):\n",
    "        if weight<19:\n",
    "            print('oh sorry but you are underweight')\n",
    "        elif weight>=19:\n",
    "            print('you are healthyweight')\n",
    "            break\n",
    "        else:\n",
    "            print('you are overweight')\n",
    "person(45.5,24.1,18, 'male',16)   "
   ]
  },
  {
   "cell_type": "code",
   "execution_count": 6,
   "metadata": {},
   "outputs": [
    {
     "name": "stdout",
     "output_type": "stream",
     "text": [
      "please enter the first number:366\n",
      "please enter the second number:365\n",
      "year is a leap year\n"
     ]
    }
   ],
   "source": [
    "#2.\n",
    "def thegivenyear():\n",
    "    year1 = int(input('please enter the first number:'))\n",
    "    year2 = int(input('please enter the second number:'))\n",
    "    if year2>year1:\n",
    "        print('year is a normal year')\n",
    "    else:\n",
    "        print('year is a leap year')\n",
    "thegivenyear()"
   ]
  }
 ],
 "metadata": {
  "kernelspec": {
   "display_name": "Python 3",
   "language": "python",
   "name": "python3"
  },
  "language_info": {
   "codemirror_mode": {
    "name": "ipython",
    "version": 3
   },
   "file_extension": ".py",
   "mimetype": "text/x-python",
   "name": "python",
   "nbconvert_exporter": "python",
   "pygments_lexer": "ipython3",
   "version": "3.8.5"
  }
 },
 "nbformat": 4,
 "nbformat_minor": 4
}
