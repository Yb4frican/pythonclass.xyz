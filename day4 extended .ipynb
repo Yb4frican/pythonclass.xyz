{
 "cells": [
  {
   "cell_type": "code",
   "execution_count": 2,
   "metadata": {},
   "outputs": [
    {
     "name": "stdout",
     "output_type": "stream",
     "text": [
      "please enter your name:Steve\n",
      "welcome on board Steve\n"
     ]
    }
   ],
   "source": [
    "name = input('please enter your name:')\n",
    "if name [0] == 'S' or name [0] == 's':\n",
    "    print(f'welcome on board {name}')\n",
    "else:\n",
    "    print(f'good morning {name}')"
   ]
  },
  {
   "cell_type": "code",
   "execution_count": 3,
   "metadata": {},
   "outputs": [],
   "source": [
    "# write a program to check if a number a user enters is even or odd "
   ]
  },
  {
   "cell_type": "code",
   "execution_count": 18,
   "metadata": {},
   "outputs": [
    {
     "name": "stdout",
     "output_type": "stream",
     "text": [
      "please enter a number:10\n",
      "10 is an even number\n"
     ]
    }
   ],
   "source": [
    "number = int(input('please enter a number:'))\n",
    "if number %2 ==0:\n",
    "    print(f'{number} is an even number')\n",
    "else:\n",
    "    print(f'{number} is an odd number')"
   ]
  },
  {
   "cell_type": "code",
   "execution_count": 13,
   "metadata": {},
   "outputs": [],
   "source": [
    "# The 'if else' or 'elif' condition statement; this function handles as many conditions as possible "
   ]
  },
  {
   "cell_type": "code",
   "execution_count": 25,
   "metadata": {},
   "outputs": [
    {
     "name": "stdout",
     "output_type": "stream",
     "text": [
      "please enter a number10\n",
      "10is a positive number\n"
     ]
    }
   ],
   "source": [
    "num = int(input('please enter a number'))\n",
    "if num > 0:\n",
    "    print(f'{num}is a positive number')\n",
    "elif num < 0:\n",
    "    print(f'{num}is a negative number')\n",
    "else:\n",
    "    print(f'{num}is zero')"
   ]
  },
  {
   "cell_type": "code",
   "execution_count": 12,
   "metadata": {},
   "outputs": [],
   "source": [
    "# write a program to check the weight of chicken \n",
    "# if weight is between 0 to 5 price is 5000\n",
    "# if weight is between 6 to 10 price is 7500"
   ]
  },
  {
   "cell_type": "code",
   "execution_count": 21,
   "metadata": {},
   "outputs": [
    {
     "name": "stdout",
     "output_type": "stream",
     "text": [
      "please enter a number:1\n",
      "1price is 5000\n"
     ]
    }
   ],
   "source": [
    "weight =int( input('please enter a number:'))\n",
    "if weight >= 0 and weight <=5:\n",
    "    print(f'{weight}price is 5000')\n",
    "elif weight >= 6 and weight <= 10:\n",
    "    print(f'{weight}price is 7500')\n",
    "else: \n",
    "    print(f'{weight}price is 10000')"
   ]
  },
  {
   "cell_type": "code",
   "execution_count": null,
   "metadata": {},
   "outputs": [],
   "source": []
  }
 ],
 "metadata": {
  "kernelspec": {
   "display_name": "Python 3",
   "language": "python",
   "name": "python3"
  },
  "language_info": {
   "codemirror_mode": {
    "name": "ipython",
    "version": 3
   },
   "file_extension": ".py",
   "mimetype": "text/x-python",
   "name": "python",
   "nbconvert_exporter": "python",
   "pygments_lexer": "ipython3",
   "version": "3.8.5"
  }
 },
 "nbformat": 4,
 "nbformat_minor": 4
}
