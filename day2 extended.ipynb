{
 "cells": [
  {
   "cell_type": "code",
   "execution_count": 22,
   "metadata": {},
   "outputs": [],
   "source": [
    "# a man borrowed 800000 at 5% per annum simple intrest at the end of the loan period he paysback 100000 to the lender for how long did he keep th loan"
   ]
  },
  {
   "cell_type": "code",
   "execution_count": 23,
   "metadata": {},
   "outputs": [
    {
     "name": "stdout",
     "output_type": "stream",
     "text": [
      "the loan period is estimated to be 5.0\n"
     ]
    }
   ],
   "source": [
    "p = 800000\n",
    "payback = 1000000\n",
    "diff = payback - p \n",
    "r = 5 \n",
    "i = (p*r*1)/100\n",
    "t = diff/i\n",
    "print(f'the loan period is estimated to be {t}')"
   ]
  },
  {
   "cell_type": "code",
   "execution_count": 24,
   "metadata": {},
   "outputs": [],
   "source": [
    "# excersise 1\n",
    "# a woman took for which she paid intrest of 120,000 in two years at 4% per annum. calculate the loan she took"
   ]
  },
  {
   "cell_type": "code",
   "execution_count": 25,
   "metadata": {},
   "outputs": [
    {
     "name": "stdout",
     "output_type": "stream",
     "text": [
      "the said loan took is 6000000.0\n"
     ]
    }
   ],
   "source": [
    "i = 120000\n",
    "r = 0.04\n",
    "t = 2\n",
    "p = i/r*t\n",
    "print(f'the said loan took is {p}')"
   ]
  },
  {
   "cell_type": "code",
   "execution_count": 26,
   "metadata": {},
   "outputs": [],
   "source": [
    "# excersise 2 \n",
    "  \n",
    "# a man borrows 5000000 for 3 years at 7% per annum simple intrest, how much is the intrest at the end of 3 years"
   ]
  },
  {
   "cell_type": "code",
   "execution_count": 27,
   "metadata": {},
   "outputs": [
    {
     "name": "stdout",
     "output_type": "stream",
     "text": [
      "the intrest at the end of 3 years is 1050000.0000000002\n"
     ]
    }
   ],
   "source": [
    "p = 5000000\n",
    "r = 0.07\n",
    "t = 3\n",
    "i = p*r*t\n",
    "print(f'the intrest at the end of 3 years is {i}')"
   ]
  },
  {
   "cell_type": "code",
   "execution_count": 28,
   "metadata": {},
   "outputs": [],
   "source": [
    "# excersise 3 \n",
    "\n",
    "# a poultry farmer took a loan of 500000 to equip his poultry at an intrest rate of 25% per annum\n",
    "#at the end of first year he paid back 150000 and promised to repay the balance\n",
    "#in the next one year on monthly payment. \n",
    "\n",
    "#1. how much of the loan did he repay at the end of the first year \n",
    "\n",
    "#2. how much did he repay per month in the monthly repayment"
   ]
  },
  {
   "cell_type": "code",
   "execution_count": 29,
   "metadata": {},
   "outputs": [
    {
     "name": "stdout",
     "output_type": "stream",
     "text": [
      "the loan at the end of the first yr is 600000.0\n"
     ]
    }
   ],
   "source": [
    "#1. \n",
    "i = 150000 \n",
    "r = 0.25\n",
    "t = 1\n",
    "p = i/r*t\n",
    "print(f'the loan at the end of the first yr is {p}')"
   ]
  },
  {
   "cell_type": "code",
   "execution_count": 31,
   "metadata": {},
   "outputs": [
    {
     "name": "stdout",
     "output_type": "stream",
     "text": [
      "the intrest 124998.0 after 12 months is\n"
     ]
    }
   ],
   "source": [
    "#2.\n",
    "p = 500000\n",
    "r = 0.020833\n",
    "t = 12\n",
    "i = p*r*t\n",
    "print(f'the intrest {i} after 12 months is')"
   ]
  }
 ],
 "metadata": {
  "kernelspec": {
   "display_name": "Python 3",
   "language": "python",
   "name": "python3"
  },
  "language_info": {
   "codemirror_mode": {
    "name": "ipython",
    "version": 3
   },
   "file_extension": ".py",
   "mimetype": "text/x-python",
   "name": "python",
   "nbconvert_exporter": "python",
   "pygments_lexer": "ipython3",
   "version": "3.8.5"
  }
 },
 "nbformat": 4,
 "nbformat_minor": 4
}
