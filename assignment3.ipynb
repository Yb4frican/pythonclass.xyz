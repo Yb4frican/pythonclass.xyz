{
 "cells": [
  {
   "cell_type": "markdown",
   "metadata": {},
   "source": [
    "# Assignment1\n"
   ]
  },
  {
   "cell_type": "code",
   "execution_count": 3,
   "metadata": {},
   "outputs": [
    {
     "name": "stdout",
     "output_type": "stream",
     "text": [
      "Honda clv 504 has started\n",
      "None\n",
      "gear placed on 3\n",
      "None\n",
      "shield has been activated\n",
      "None\n",
      "Honda clv has stopped\n",
      "None\n"
     ]
    }
   ],
   "source": [
    "class bikesimulation:\n",
    "    def __init__(Self,Brand,Model,Color,Tiersize,Year,Speed):\n",
    "        Self.Brand = Brand\n",
    "        Self.Model = Model\n",
    "        Self.Color = Color\n",
    "        Self.Tiersize = Tiersize\n",
    "        Self.Year = Year\n",
    "        Self.Speed = Speed\n",
    "        \n",
    "    def start(Self):\n",
    "        print(f'{Self.Brand} {Self.Model} {Self.Tiersize} has started')\n",
    "        \n",
    "    def gear(Self,choice):\n",
    "        if choice == 1:\n",
    "            print('gear placed on 1')\n",
    "        elif choice == 2:\n",
    "            print('gear placed on 2')\n",
    "        elif choice == 3:\n",
    "            print('gear placed on 3')\n",
    "        elif choice == 4:\n",
    "            print('gear placed on 4')\n",
    "        elif choice == 5:\n",
    "            print('gear placed on 5')\n",
    "        elif choice == 6:\n",
    "            print('gear placed on reverse')\n",
    "            \n",
    "    def shield(Self,choice):\n",
    "        if choice == 1:\n",
    "            print('shield has been activated')\n",
    "        else:\n",
    "            print('shields disengaged')\n",
    "    def stop(Self):\n",
    "        print(f'{Self.Brand} {Self.Model} has stopped')\n",
    "bike1 = bikesimulation('Honda','clv','grey',504,2021,85)\n",
    "\n",
    "print(bike1.start())\n",
    "print(bike1.gear(3))\n",
    "print(bike1.shield(1))\n",
    "print(bike1.stop())      "
   ]
  },
  {
   "cell_type": "code",
   "execution_count": 1,
   "metadata": {},
   "outputs": [
    {
     "name": "stdout",
     "output_type": "stream",
     "text": [
      "234.0\n"
     ]
    },
    {
     "ename": "NameError",
     "evalue": "name 'reverse' is not defined",
     "output_type": "error",
     "traceback": [
      "\u001b[1;31m---------------------------------------------------------------------------\u001b[0m",
      "\u001b[1;31mNameError\u001b[0m                                 Traceback (most recent call last)",
      "\u001b[1;32m<ipython-input-1-41d787cd001d>\u001b[0m in \u001b[0;36m<module>\u001b[1;34m\u001b[0m\n\u001b[0;32m      1\u001b[0m \u001b[0mword\u001b[0m \u001b[1;33m=\u001b[0m \u001b[1;34m'234'\u001b[0m\u001b[1;33m\u001b[0m\u001b[1;33m\u001b[0m\u001b[0m\n\u001b[0;32m      2\u001b[0m \u001b[0mprint\u001b[0m\u001b[1;33m(\u001b[0m\u001b[0mfloat\u001b[0m\u001b[1;33m(\u001b[0m\u001b[0mword\u001b[0m\u001b[1;33m)\u001b[0m\u001b[1;33m)\u001b[0m\u001b[1;33m\u001b[0m\u001b[1;33m\u001b[0m\u001b[0m\n\u001b[1;32m----> 3\u001b[1;33m \u001b[0mprint\u001b[0m\u001b[1;33m(\u001b[0m\u001b[0mreverse\u001b[0m\u001b[1;33m.\u001b[0m\u001b[0mword\u001b[0m\u001b[1;33m)\u001b[0m\u001b[1;33m\u001b[0m\u001b[1;33m\u001b[0m\u001b[0m\n\u001b[0m",
      "\u001b[1;31mNameError\u001b[0m: name 'reverse' is not defined"
     ]
    }
   ],
   "source": [
    "word = '234' \n",
    "print(reverse.word)"
   ]
  },
  {
   "cell_type": "code",
   "execution_count": null,
   "metadata": {},
   "outputs": [],
   "source": []
  }
 ],
 "metadata": {
  "kernelspec": {
   "display_name": "Python 3",
   "language": "python",
   "name": "python3"
  },
  "language_info": {
   "codemirror_mode": {
    "name": "ipython",
    "version": 3
   },
   "file_extension": ".py",
   "mimetype": "text/x-python",
   "name": "python",
   "nbconvert_exporter": "python",
   "pygments_lexer": "ipython3",
   "version": "3.8.5"
  }
 },
 "nbformat": 4,
 "nbformat_minor": 4
}
